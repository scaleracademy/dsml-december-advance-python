{
 "cells": [
  {
   "cell_type": "markdown",
   "id": "a7b99702",
   "metadata": {},
   "source": [
    "# MAPS"
   ]
  },
  {
   "cell_type": "code",
   "execution_count": 1,
   "id": "6ddeb2ac",
   "metadata": {},
   "outputs": [],
   "source": [
    "a = [1, 2, 3, 4, 5, 6, 7, 8]"
   ]
  },
  {
   "cell_type": "code",
   "execution_count": 4,
   "id": "9292e0af",
   "metadata": {},
   "outputs": [],
   "source": [
    "m = list(map(lambda x: x ** 2, a))"
   ]
  },
  {
   "cell_type": "code",
   "execution_count": 5,
   "id": "76daed19",
   "metadata": {},
   "outputs": [
    {
     "data": {
      "text/plain": [
       "[1, 4, 9, 16, 25, 36, 49, 64]"
      ]
     },
     "execution_count": 5,
     "metadata": {},
     "output_type": "execute_result"
    }
   ],
   "source": [
    "m"
   ]
  },
  {
   "cell_type": "code",
   "execution_count": 6,
   "id": "7f18d2dd",
   "metadata": {},
   "outputs": [],
   "source": [
    "squares = [ i**2 for i in a ]"
   ]
  },
  {
   "cell_type": "code",
   "execution_count": 7,
   "id": "fda25bd7",
   "metadata": {},
   "outputs": [
    {
     "data": {
      "text/plain": [
       "[1, 4, 9, 16, 25, 36, 49, 64]"
      ]
     },
     "execution_count": 7,
     "metadata": {},
     "output_type": "execute_result"
    }
   ],
   "source": [
    "squares"
   ]
  },
  {
   "cell_type": "code",
   "execution_count": 11,
   "id": "d0fb3323",
   "metadata": {
    "scrolled": true
   },
   "outputs": [
    {
     "name": "stdout",
     "output_type": "stream",
     "text": [
      "27.5 ms ± 629 µs per loop (mean ± std. dev. of 7 runs, 10 loops each)\n"
     ]
    }
   ],
   "source": [
    "%timeit [ i**2 for i in range(100000) ]"
   ]
  },
  {
   "cell_type": "code",
   "execution_count": 10,
   "id": "3e74071f",
   "metadata": {},
   "outputs": [
    {
     "name": "stdout",
     "output_type": "stream",
     "text": [
      "332 ns ± 1.8 ns per loop (mean ± std. dev. of 7 runs, 1,000,000 loops each)\n"
     ]
    }
   ],
   "source": [
    "%timeit map(lambda x: x**2, range(100000))"
   ]
  },
  {
   "cell_type": "code",
   "execution_count": 13,
   "id": "0e9876aa",
   "metadata": {},
   "outputs": [
    {
     "name": "stdout",
     "output_type": "stream",
     "text": [
      "1\n",
      "4\n",
      "9\n",
      "16\n",
      "25\n",
      "36\n",
      "49\n",
      "64\n"
     ]
    }
   ],
   "source": [
    "m = map(lambda x: x**2, a)\n",
    "for i in m:\n",
    "    print(i)"
   ]
  },
  {
   "cell_type": "code",
   "execution_count": 14,
   "id": "3a9f956f",
   "metadata": {},
   "outputs": [],
   "source": [
    "heights = [144, 167, 189, 170, 190, 150, 165, 178, 200, 130]"
   ]
  },
  {
   "cell_type": "code",
   "execution_count": 15,
   "id": "9a07d3f8",
   "metadata": {},
   "outputs": [],
   "source": [
    "def complex_logic(h):\n",
    "    if h < 150:\n",
    "        return \"S\"\n",
    "    elif h >= 150 and h < 180:\n",
    "        return \"M\"\n",
    "    elif h > 180:\n",
    "        return \"L\""
   ]
  },
  {
   "cell_type": "code",
   "execution_count": 17,
   "id": "005a492b",
   "metadata": {},
   "outputs": [],
   "source": [
    "sizes = list(map(complex_logic, heights))"
   ]
  },
  {
   "cell_type": "code",
   "execution_count": 20,
   "id": "f161da7e",
   "metadata": {},
   "outputs": [
    {
     "data": {
      "text/plain": [
       "['S', 'M', 'L', 'M', 'L', 'M', 'M', 'M', 'L', 'S']"
      ]
     },
     "execution_count": 20,
     "metadata": {},
     "output_type": "execute_result"
    }
   ],
   "source": [
    "sizes"
   ]
  },
  {
   "cell_type": "code",
   "execution_count": 21,
   "id": "c63fcdc4",
   "metadata": {},
   "outputs": [
    {
     "name": "stdout",
     "output_type": "stream",
     "text": [
      "67 89 7 45 3 2 10 100 98 22\n"
     ]
    }
   ],
   "source": [
    "a = input()"
   ]
  },
  {
   "cell_type": "code",
   "execution_count": 22,
   "id": "73505e5f",
   "metadata": {},
   "outputs": [
    {
     "data": {
      "text/plain": [
       "'67 89 7 45 3 2 10 100 98 22'"
      ]
     },
     "execution_count": 22,
     "metadata": {},
     "output_type": "execute_result"
    }
   ],
   "source": [
    "a"
   ]
  },
  {
   "cell_type": "code",
   "execution_count": 26,
   "id": "b956effd",
   "metadata": {},
   "outputs": [
    {
     "name": "stdout",
     "output_type": "stream",
     "text": [
      "10 20 30 40 50\n"
     ]
    },
    {
     "data": {
      "text/plain": [
       "[10, 20, 30, 40, 50]"
      ]
     },
     "execution_count": 26,
     "metadata": {},
     "output_type": "execute_result"
    }
   ],
   "source": [
    "list(map(int ,input().split()))"
   ]
  },
  {
   "cell_type": "code",
   "execution_count": 27,
   "id": "5272cead",
   "metadata": {},
   "outputs": [],
   "source": [
    "a = [10, 20, 30, 40, 50]\n",
    "b = [\"a\", \"b\", \"c\"]"
   ]
  },
  {
   "cell_type": "code",
   "execution_count": 28,
   "id": "698428fa",
   "metadata": {},
   "outputs": [
    {
     "data": {
      "text/plain": [
       "['10a', '20b', '30c']"
      ]
     },
     "execution_count": 28,
     "metadata": {},
     "output_type": "execute_result"
    }
   ],
   "source": [
    "list(map(lambda x, y: str(x) + str(y), a, b))"
   ]
  },
  {
   "cell_type": "code",
   "execution_count": 29,
   "id": "d9505c73",
   "metadata": {},
   "outputs": [],
   "source": [
    "# Map stops at the end of the smallest available iterable"
   ]
  },
  {
   "cell_type": "code",
   "execution_count": 30,
   "id": "c7f57ed4",
   "metadata": {},
   "outputs": [
    {
     "data": {
      "text/plain": [
       "['10axTrue', '20byFalse']"
      ]
     },
     "execution_count": 30,
     "metadata": {},
     "output_type": "execute_result"
    }
   ],
   "source": [
    "a = [10, 20, 30, 40, 50]\n",
    "b = [\"a\", \"b\", \"c\"]\n",
    "c = [\"x\", \"y\", \"z\", \"w\"]\n",
    "d = [True, False]\n",
    "\n",
    "list(map(lambda w, x, y, z: str(w) + str(x) + str(y) + str(z), a, b, c, d))"
   ]
  },
  {
   "cell_type": "markdown",
   "id": "71be4a62",
   "metadata": {},
   "source": [
    "# FILTERS"
   ]
  },
  {
   "cell_type": "code",
   "execution_count": 33,
   "id": "7cb12a11",
   "metadata": {},
   "outputs": [],
   "source": [
    "a = list(range(1, 31))"
   ]
  },
  {
   "cell_type": "code",
   "execution_count": 34,
   "id": "a435eba4",
   "metadata": {},
   "outputs": [
    {
     "data": {
      "text/plain": [
       "[1,\n",
       " 2,\n",
       " 3,\n",
       " 4,\n",
       " 5,\n",
       " 6,\n",
       " 7,\n",
       " 8,\n",
       " 9,\n",
       " 10,\n",
       " 11,\n",
       " 12,\n",
       " 13,\n",
       " 14,\n",
       " 15,\n",
       " 16,\n",
       " 17,\n",
       " 18,\n",
       " 19,\n",
       " 20,\n",
       " 21,\n",
       " 22,\n",
       " 23,\n",
       " 24,\n",
       " 25,\n",
       " 26,\n",
       " 27,\n",
       " 28,\n",
       " 29,\n",
       " 30]"
      ]
     },
     "execution_count": 34,
     "metadata": {},
     "output_type": "execute_result"
    }
   ],
   "source": [
    "a"
   ]
  },
  {
   "cell_type": "code",
   "execution_count": 35,
   "id": "a8dabcd4",
   "metadata": {},
   "outputs": [],
   "source": [
    "f = list(filter(lambda x: x % 3 == 0, a))"
   ]
  },
  {
   "cell_type": "code",
   "execution_count": 36,
   "id": "a305bd06",
   "metadata": {},
   "outputs": [
    {
     "data": {
      "text/plain": [
       "[3, 6, 9, 12, 15, 18, 21, 24, 27, 30]"
      ]
     },
     "execution_count": 36,
     "metadata": {},
     "output_type": "execute_result"
    }
   ],
   "source": [
    "f"
   ]
  },
  {
   "cell_type": "markdown",
   "id": "b4628235",
   "metadata": {},
   "source": [
    "# ZIP"
   ]
  },
  {
   "cell_type": "code",
   "execution_count": 37,
   "id": "07b35e78",
   "metadata": {},
   "outputs": [],
   "source": [
    "a = [10, 20, 30, 40, 50]\n",
    "b = [\"a\", \"b\", \"c\"]\n",
    "c = [\"x\", \"y\", \"z\", \"w\"]\n",
    "d = [True, False]"
   ]
  },
  {
   "cell_type": "code",
   "execution_count": 38,
   "id": "0cb97a2e",
   "metadata": {},
   "outputs": [],
   "source": [
    "result = list(zip(a, b, c, d))"
   ]
  },
  {
   "cell_type": "code",
   "execution_count": 39,
   "id": "69f3d574",
   "metadata": {},
   "outputs": [
    {
     "data": {
      "text/plain": [
       "[(10, 'a', 'x', True), (20, 'b', 'y', False)]"
      ]
     },
     "execution_count": 39,
     "metadata": {},
     "output_type": "execute_result"
    }
   ],
   "source": [
    "result"
   ]
  },
  {
   "cell_type": "markdown",
   "id": "7ac143f5",
   "metadata": {},
   "source": [
    "# REDUCE"
   ]
  },
  {
   "cell_type": "code",
   "execution_count": 40,
   "id": "3fc68283",
   "metadata": {},
   "outputs": [],
   "source": [
    "from functools import reduce"
   ]
  },
  {
   "cell_type": "code",
   "execution_count": 41,
   "id": "65e009b5",
   "metadata": {},
   "outputs": [],
   "source": [
    "a = [1, 2, 3, 4, 5, 6, 7, 8, 9, 10]"
   ]
  },
  {
   "cell_type": "code",
   "execution_count": 43,
   "id": "aad4c4b2",
   "metadata": {},
   "outputs": [
    {
     "data": {
      "text/plain": [
       "55"
      ]
     },
     "execution_count": 43,
     "metadata": {},
     "output_type": "execute_result"
    }
   ],
   "source": [
    "reduce(lambda x, y: x + y, a)"
   ]
  },
  {
   "cell_type": "code",
   "execution_count": 44,
   "id": "8a3f6cbd",
   "metadata": {},
   "outputs": [
    {
     "data": {
      "text/plain": [
       "10"
      ]
     },
     "execution_count": 44,
     "metadata": {},
     "output_type": "execute_result"
    }
   ],
   "source": [
    "reduce(lambda x, y: x if x > y else y, a)"
   ]
  },
  {
   "cell_type": "code",
   "execution_count": 45,
   "id": "ae30055a",
   "metadata": {},
   "outputs": [
    {
     "data": {
      "text/plain": [
       "1"
      ]
     },
     "execution_count": 45,
     "metadata": {},
     "output_type": "execute_result"
    }
   ],
   "source": [
    "reduce(lambda x, y: x if x < y else y, a)"
   ]
  },
  {
   "cell_type": "code",
   "execution_count": 48,
   "id": "db5bb596",
   "metadata": {},
   "outputs": [],
   "source": [
    "reduce?"
   ]
  },
  {
   "cell_type": "code",
   "execution_count": 47,
   "id": "392d3a1e",
   "metadata": {},
   "outputs": [
    {
     "data": {
      "text/plain": [
       "155"
      ]
     },
     "execution_count": 47,
     "metadata": {},
     "output_type": "execute_result"
    }
   ],
   "source": [
    "reduce(lambda x, y: x + y, a, 100)"
   ]
  },
  {
   "cell_type": "markdown",
   "id": "93d4efdb",
   "metadata": {},
   "source": [
    "# ARGS and KWARGS"
   ]
  },
  {
   "cell_type": "code",
   "execution_count": 49,
   "id": "de66db03",
   "metadata": {},
   "outputs": [],
   "source": [
    "def custom_sum(a, b):\n",
    "    return a + b"
   ]
  },
  {
   "cell_type": "code",
   "execution_count": 50,
   "id": "7bcded8d",
   "metadata": {},
   "outputs": [
    {
     "data": {
      "text/plain": [
       "15"
      ]
     },
     "execution_count": 50,
     "metadata": {},
     "output_type": "execute_result"
    }
   ],
   "source": [
    "custom_sum(5, 10)"
   ]
  },
  {
   "cell_type": "code",
   "execution_count": 53,
   "id": "65e29c7c",
   "metadata": {},
   "outputs": [
    {
     "ename": "TypeError",
     "evalue": "custom_sum() takes 2 positional arguments but 4 were given",
     "output_type": "error",
     "traceback": [
      "\u001b[0;31m---------------------------------------------------------------------------\u001b[0m",
      "\u001b[0;31mTypeError\u001b[0m                                 Traceback (most recent call last)",
      "Cell \u001b[0;32mIn[53], line 1\u001b[0m\n\u001b[0;32m----> 1\u001b[0m \u001b[43mcustom_sum\u001b[49m\u001b[43m(\u001b[49m\u001b[38;5;241;43m5\u001b[39;49m\u001b[43m,\u001b[49m\u001b[43m \u001b[49m\u001b[38;5;241;43m10\u001b[39;49m\u001b[43m,\u001b[49m\u001b[43m \u001b[49m\u001b[38;5;241;43m30\u001b[39;49m\u001b[43m,\u001b[49m\u001b[43m \u001b[49m\u001b[38;5;241;43m40\u001b[39;49m\u001b[43m)\u001b[49m\n",
      "\u001b[0;31mTypeError\u001b[0m: custom_sum() takes 2 positional arguments but 4 were given"
     ]
    }
   ],
   "source": [
    "custom_sum(5, 10, 30, 40)"
   ]
  },
  {
   "cell_type": "code",
   "execution_count": 55,
   "id": "7f6cf3b3",
   "metadata": {},
   "outputs": [],
   "source": [
    "def custom_sum(a, b, *args):\n",
    "    print(f\"a - {a}\")\n",
    "    print(f\"b - {b}\")\n",
    "    print(f\"args - {args}\")"
   ]
  },
  {
   "cell_type": "code",
   "execution_count": 58,
   "id": "48d1c060",
   "metadata": {},
   "outputs": [
    {
     "name": "stdout",
     "output_type": "stream",
     "text": [
      "a - 5\n",
      "b - 10\n",
      "args - (8, 10)\n"
     ]
    }
   ],
   "source": [
    "custom_sum(5, 10, 8, 10)"
   ]
  },
  {
   "cell_type": "code",
   "execution_count": 59,
   "id": "1055a86b",
   "metadata": {},
   "outputs": [],
   "source": [
    "def custom_sum(a, b, *any_variable_name):\n",
    "    result = a + b\n",
    "    \n",
    "    if any_variable_name:\n",
    "        result += sum(any_variable_name)\n",
    "        \n",
    "    return result"
   ]
  },
  {
   "cell_type": "code",
   "execution_count": 60,
   "id": "ed02b303",
   "metadata": {},
   "outputs": [
    {
     "data": {
      "text/plain": [
       "30"
      ]
     },
     "execution_count": 60,
     "metadata": {},
     "output_type": "execute_result"
    }
   ],
   "source": [
    "custom_sum(10, 20)"
   ]
  },
  {
   "cell_type": "code",
   "execution_count": 63,
   "id": "0fe5450e",
   "metadata": {},
   "outputs": [
    {
     "data": {
      "text/plain": [
       "550"
      ]
     },
     "execution_count": 63,
     "metadata": {},
     "output_type": "execute_result"
    }
   ],
   "source": [
    "custom_sum(10, 20, 30, 40, 50, 60, 70, 80, 90, 100)"
   ]
  },
  {
   "cell_type": "code",
   "execution_count": 64,
   "id": "35c894de",
   "metadata": {},
   "outputs": [],
   "source": [
    "x, y, z = (10, 20, 30)"
   ]
  },
  {
   "cell_type": "code",
   "execution_count": 65,
   "id": "85d87fa7",
   "metadata": {},
   "outputs": [
    {
     "data": {
      "text/plain": [
       "10"
      ]
     },
     "execution_count": 65,
     "metadata": {},
     "output_type": "execute_result"
    }
   ],
   "source": [
    "x"
   ]
  },
  {
   "cell_type": "code",
   "execution_count": 66,
   "id": "eff095e0",
   "metadata": {},
   "outputs": [
    {
     "data": {
      "text/plain": [
       "20"
      ]
     },
     "execution_count": 66,
     "metadata": {},
     "output_type": "execute_result"
    }
   ],
   "source": [
    "y"
   ]
  },
  {
   "cell_type": "code",
   "execution_count": 67,
   "id": "eda315e9",
   "metadata": {},
   "outputs": [
    {
     "data": {
      "text/plain": [
       "30"
      ]
     },
     "execution_count": 67,
     "metadata": {},
     "output_type": "execute_result"
    }
   ],
   "source": [
    "z"
   ]
  },
  {
   "cell_type": "code",
   "execution_count": 69,
   "id": "75fadbd9",
   "metadata": {},
   "outputs": [],
   "source": [
    "x, y, z, *more = (10, 20, 30, 40, 50, 60)"
   ]
  },
  {
   "cell_type": "code",
   "execution_count": 70,
   "id": "cde8ef72",
   "metadata": {},
   "outputs": [
    {
     "data": {
      "text/plain": [
       "10"
      ]
     },
     "execution_count": 70,
     "metadata": {},
     "output_type": "execute_result"
    }
   ],
   "source": [
    "x"
   ]
  },
  {
   "cell_type": "code",
   "execution_count": 71,
   "id": "ff91fdad",
   "metadata": {},
   "outputs": [
    {
     "data": {
      "text/plain": [
       "20"
      ]
     },
     "execution_count": 71,
     "metadata": {},
     "output_type": "execute_result"
    }
   ],
   "source": [
    "y"
   ]
  },
  {
   "cell_type": "code",
   "execution_count": 72,
   "id": "1d1443e9",
   "metadata": {},
   "outputs": [
    {
     "data": {
      "text/plain": [
       "30"
      ]
     },
     "execution_count": 72,
     "metadata": {},
     "output_type": "execute_result"
    }
   ],
   "source": [
    "z"
   ]
  },
  {
   "cell_type": "code",
   "execution_count": 73,
   "id": "ee82cd1a",
   "metadata": {},
   "outputs": [
    {
     "data": {
      "text/plain": [
       "[40, 50, 60]"
      ]
     },
     "execution_count": 73,
     "metadata": {},
     "output_type": "execute_result"
    }
   ],
   "source": [
    "more"
   ]
  },
  {
   "cell_type": "code",
   "execution_count": 85,
   "id": "dae40045",
   "metadata": {},
   "outputs": [],
   "source": [
    "*x, y, z = (10, 20, 30, 40, 50, 60)"
   ]
  },
  {
   "cell_type": "code",
   "execution_count": 86,
   "id": "0db87a4f",
   "metadata": {
    "scrolled": true
   },
   "outputs": [
    {
     "data": {
      "text/plain": [
       "[10, 20, 30, 40]"
      ]
     },
     "execution_count": 86,
     "metadata": {},
     "output_type": "execute_result"
    }
   ],
   "source": [
    "x"
   ]
  },
  {
   "cell_type": "code",
   "execution_count": 87,
   "id": "87b010df",
   "metadata": {},
   "outputs": [
    {
     "data": {
      "text/plain": [
       "50"
      ]
     },
     "execution_count": 87,
     "metadata": {},
     "output_type": "execute_result"
    }
   ],
   "source": [
    "y"
   ]
  },
  {
   "cell_type": "code",
   "execution_count": 88,
   "id": "b3e84535",
   "metadata": {},
   "outputs": [
    {
     "data": {
      "text/plain": [
       "60"
      ]
     },
     "execution_count": 88,
     "metadata": {},
     "output_type": "execute_result"
    }
   ],
   "source": [
    "z"
   ]
  },
  {
   "cell_type": "code",
   "execution_count": 89,
   "id": "46ac2282",
   "metadata": {},
   "outputs": [],
   "source": [
    "def create_person(name, age, gender):\n",
    "    Person = {\n",
    "        \"name\": name,\n",
    "        \"age\": age,\n",
    "        \"gender\": gender\n",
    "    }\n",
    "    \n",
    "    return Person"
   ]
  },
  {
   "cell_type": "code",
   "execution_count": 90,
   "id": "56fb494a",
   "metadata": {},
   "outputs": [
    {
     "data": {
      "text/plain": [
       "{'name': 'Bipin', 'age': '5000', 'gender': 'Male'}"
      ]
     },
     "execution_count": 90,
     "metadata": {},
     "output_type": "execute_result"
    }
   ],
   "source": [
    "create_person(\n",
    "    name = \"Bipin\",\n",
    "    age = \"5000\",\n",
    "    gender = \"Male\"\n",
    ")"
   ]
  },
  {
   "cell_type": "code",
   "execution_count": 94,
   "id": "b87ab8da",
   "metadata": {},
   "outputs": [],
   "source": [
    "def create_person(name, age, gender, **kwargs):\n",
    "    Person = {\n",
    "        \"name\": name,\n",
    "        \"age\": age,\n",
    "        \"gender\": gender\n",
    "    }\n",
    "    \n",
    "    print(f\"kwargs - {kwargs}\")\n",
    "    \n",
    "    return Person"
   ]
  },
  {
   "cell_type": "code",
   "execution_count": 95,
   "id": "38edec4d",
   "metadata": {},
   "outputs": [
    {
     "name": "stdout",
     "output_type": "stream",
     "text": [
      "kwargs - {'fav_color': 'Blue', 'hobby': 'Painting'}\n"
     ]
    },
    {
     "data": {
      "text/plain": [
       "{'name': 'Bipin', 'age': '5000', 'gender': 'Male'}"
      ]
     },
     "execution_count": 95,
     "metadata": {},
     "output_type": "execute_result"
    }
   ],
   "source": [
    "create_person(\n",
    "    name = \"Bipin\",\n",
    "    age = \"5000\",\n",
    "    gender = \"Male\",\n",
    "    fav_color = \"Blue\",\n",
    "    hobby = \"Painting\"\n",
    ")"
   ]
  },
  {
   "cell_type": "code",
   "execution_count": 96,
   "id": "768c44d8",
   "metadata": {},
   "outputs": [],
   "source": [
    "def create_person(name, age, gender, **extra_info):\n",
    "    Person = {\n",
    "        \"name\": name,\n",
    "        \"age\": age,\n",
    "        \"gender\": gender\n",
    "    }\n",
    "    \n",
    "    if extra_info:\n",
    "        Person.update(extra_info)\n",
    "    \n",
    "    return Person"
   ]
  },
  {
   "cell_type": "code",
   "execution_count": 97,
   "id": "a7fa99ab",
   "metadata": {},
   "outputs": [
    {
     "data": {
      "text/plain": [
       "{'name': 'Bipin',\n",
       " 'age': '5000',\n",
       " 'gender': 'Male',\n",
       " 'fav_color': 'Blue',\n",
       " 'hobby': 'Painting'}"
      ]
     },
     "execution_count": 97,
     "metadata": {},
     "output_type": "execute_result"
    }
   ],
   "source": [
    "create_person(\n",
    "    name = \"Bipin\",\n",
    "    age = \"5000\",\n",
    "    gender = \"Male\",\n",
    "    fav_color = \"Blue\",\n",
    "    hobby = \"Painting\"\n",
    ")"
   ]
  },
  {
   "cell_type": "code",
   "execution_count": 98,
   "id": "7d0a49f2",
   "metadata": {},
   "outputs": [],
   "source": [
    "def random(x, y, *args, **kwargs):\n",
    "    print(f\"x - {x}\")\n",
    "    print(f\"y - {y}\")\n",
    "    print(f\"args - {args}\")\n",
    "    print(f\"kwargs - {kwargs}\")"
   ]
  },
  {
   "cell_type": "code",
   "execution_count": 100,
   "id": "3dda5a7a",
   "metadata": {},
   "outputs": [
    {
     "name": "stdout",
     "output_type": "stream",
     "text": [
      "x - 5\n",
      "y - 6\n",
      "args - (8, 9, 10)\n",
      "kwargs - {'a': 20, 'b': 30, 'c': 40}\n"
     ]
    }
   ],
   "source": [
    "random(5, 6, 8, 9, 10, a = 20, b = 30, c = 40)"
   ]
  },
  {
   "cell_type": "code",
   "execution_count": 101,
   "id": "36e6a97d",
   "metadata": {},
   "outputs": [
    {
     "ename": "SyntaxError",
     "evalue": "positional argument follows keyword argument (2264370330.py, line 1)",
     "output_type": "error",
     "traceback": [
      "\u001b[0;36m  Cell \u001b[0;32mIn[101], line 1\u001b[0;36m\u001b[0m\n\u001b[0;31m    random(y = 10, 20, 30, 40, a = 30, b = 30, c = 40)\u001b[0m\n\u001b[0m                                                     ^\u001b[0m\n\u001b[0;31mSyntaxError\u001b[0m\u001b[0;31m:\u001b[0m positional argument follows keyword argument\n"
     ]
    }
   ],
   "source": [
    "random(y = 10, 20, 30, 40, a = 30, b = 30, c = 40)"
   ]
  },
  {
   "cell_type": "code",
   "execution_count": 103,
   "id": "34d6fb89",
   "metadata": {},
   "outputs": [
    {
     "data": {
      "text/plain": [
       "[[3, 6], [3, 6], [3, 6], [3, 6], [3, 6], [3, 6], [3, 6], [3, 6]]"
      ]
     },
     "execution_count": 103,
     "metadata": {},
     "output_type": "execute_result"
    }
   ],
   "source": [
    "a = [1, 2, 3, 4, 5, 6, 7, 8]\n",
    "\n",
    "list(map(lambda x: [x for x in a if x % 3 == 0], a))"
   ]
  },
  {
   "cell_type": "code",
   "execution_count": 104,
   "id": "f7318702",
   "metadata": {},
   "outputs": [
    {
     "data": {
      "text/plain": [
       "'\\nMap - Result generated has the same length as input as each value gets mapped to a new value.\\nFiler - Result generated has a length <= length of the input as some values get filtered out.\\n'"
      ]
     },
     "execution_count": 104,
     "metadata": {},
     "output_type": "execute_result"
    }
   ],
   "source": [
    "'''\n",
    "Map - Result generated has the same length as input as each value gets mapped to a new value.\n",
    "Filer - Result generated has a length <= length of the input as some values get filtered out.\n",
    "'''"
   ]
  },
  {
   "cell_type": "code",
   "execution_count": 105,
   "id": "2b25f903",
   "metadata": {},
   "outputs": [
    {
     "data": {
      "text/plain": [
       "(1, 2, 3, 4, 5)"
      ]
     },
     "execution_count": 105,
     "metadata": {},
     "output_type": "execute_result"
    }
   ],
   "source": [
    "1, 2, 3, 4, 5"
   ]
  },
  {
   "cell_type": "code",
   "execution_count": 107,
   "id": "083b44ef",
   "metadata": {},
   "outputs": [],
   "source": [
    "def merge(a, b, merge_type = \"inner\"):\n",
    "    print(a, b, merge_type)"
   ]
  },
  {
   "cell_type": "code",
   "execution_count": 108,
   "id": "ae2772e3",
   "metadata": {},
   "outputs": [
    {
     "name": "stdout",
     "output_type": "stream",
     "text": [
      "10 20 30\n"
     ]
    }
   ],
   "source": [
    "merge(10, 20, 30)"
   ]
  },
  {
   "cell_type": "code",
   "execution_count": 109,
   "id": "af17af18",
   "metadata": {},
   "outputs": [
    {
     "name": "stdout",
     "output_type": "stream",
     "text": [
      "10 20 inner\n"
     ]
    }
   ],
   "source": [
    "merge(10, 20)"
   ]
  },
  {
   "cell_type": "code",
   "execution_count": 110,
   "id": "105301b2",
   "metadata": {},
   "outputs": [
    {
     "ename": "SyntaxError",
     "evalue": "invalid syntax (3247861625.py, line 1)",
     "output_type": "error",
     "traceback": [
      "\u001b[0;36m  Cell \u001b[0;32mIn[110], line 1\u001b[0;36m\u001b[0m\n\u001b[0;31m    def random(x, y, *args, **kwargs = {\"random\": \"a\"}):\u001b[0m\n\u001b[0m                                     ^\u001b[0m\n\u001b[0;31mSyntaxError\u001b[0m\u001b[0;31m:\u001b[0m invalid syntax\n"
     ]
    }
   ],
   "source": [
    "def random(x, y, *args, **kwargs = {\"random\": \"a\"}):\n",
    "    print(f\"x - {x}\")\n",
    "    print(f\"y - {y}\")\n",
    "    print(f\"args - {args}\")\n",
    "    print(f\"kwargs - {kwargs}\")"
   ]
  },
  {
   "cell_type": "code",
   "execution_count": null,
   "id": "676d1b8f",
   "metadata": {},
   "outputs": [],
   "source": []
  }
 ],
 "metadata": {
  "kernelspec": {
   "display_name": "Python 3 (ipykernel)",
   "language": "python",
   "name": "python3"
  },
  "language_info": {
   "codemirror_mode": {
    "name": "ipython",
    "version": 3
   },
   "file_extension": ".py",
   "mimetype": "text/x-python",
   "name": "python",
   "nbconvert_exporter": "python",
   "pygments_lexer": "ipython3",
   "version": "3.9.5"
  }
 },
 "nbformat": 4,
 "nbformat_minor": 5
}
