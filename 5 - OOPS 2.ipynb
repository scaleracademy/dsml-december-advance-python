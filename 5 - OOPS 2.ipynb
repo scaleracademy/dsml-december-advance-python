{
 "cells": [
  {
   "cell_type": "markdown",
   "id": "c1970b83",
   "metadata": {},
   "source": [
    "# DUNDERS"
   ]
  },
  {
   "cell_type": "code",
   "execution_count": 1,
   "id": "783813ef",
   "metadata": {},
   "outputs": [],
   "source": [
    "class Car:\n",
    "    def __init__(self, name, milaege):\n",
    "        self.name = name\n",
    "        self.milaege = milaege"
   ]
  },
  {
   "cell_type": "code",
   "execution_count": 2,
   "id": "e67caca2",
   "metadata": {},
   "outputs": [],
   "source": [
    "c1 = Car(\"Nexon\", 13)\n",
    "c2 = Car(\"Altroz\", 14.5)"
   ]
  },
  {
   "cell_type": "code",
   "execution_count": 3,
   "id": "840aa8b5",
   "metadata": {},
   "outputs": [
    {
     "name": "stdout",
     "output_type": "stream",
     "text": [
      "<__main__.Car object at 0x7fd6818bba60>\n"
     ]
    }
   ],
   "source": [
    "print(c1)"
   ]
  },
  {
   "cell_type": "code",
   "execution_count": 4,
   "id": "5d534cad",
   "metadata": {},
   "outputs": [],
   "source": [
    "# Object of type Car with name: Nexon and milaege: 13"
   ]
  },
  {
   "cell_type": "code",
   "execution_count": 17,
   "id": "a3782c7d",
   "metadata": {},
   "outputs": [],
   "source": [
    "class Car:\n",
    "    def __init__(self, name, milaege):\n",
    "        self.name = name\n",
    "        self.milaege = milaege\n",
    "        \n",
    "    # __str__ dunder gets invoked whenever an object is printed\n",
    "    def __str__(self):\n",
    "        return f\"Object of type Car with name: {self.name} and milaege: {self.milaege}\"\n",
    "    \n",
    "    # __sub__ dunder allows for subtraction between objects\n",
    "    def __sub__(self, other):\n",
    "        return self.milaege - other.milaege\n",
    "    \n",
    "    # __lt__ dunder allows for less then operation between objects\n",
    "    def __lt__(self, other):\n",
    "        return self.milaege < other.milaege"
   ]
  },
  {
   "cell_type": "code",
   "execution_count": 18,
   "id": "5c474fbb",
   "metadata": {},
   "outputs": [],
   "source": [
    "c1 = Car(\"Nexon\", 13)\n",
    "c2 = Car(\"Altroz\", 14.5)"
   ]
  },
  {
   "cell_type": "code",
   "execution_count": 19,
   "id": "d6583006",
   "metadata": {},
   "outputs": [
    {
     "name": "stdout",
     "output_type": "stream",
     "text": [
      "Object of type Car with name: Nexon and milaege: 13\n"
     ]
    }
   ],
   "source": [
    "print(c1)"
   ]
  },
  {
   "cell_type": "code",
   "execution_count": 20,
   "id": "b22275a1",
   "metadata": {},
   "outputs": [
    {
     "name": "stdout",
     "output_type": "stream",
     "text": [
      "Object of type Car with name: Altroz and milaege: 14.5\n"
     ]
    }
   ],
   "source": [
    "print(c2)"
   ]
  },
  {
   "cell_type": "code",
   "execution_count": 23,
   "id": "34103d70",
   "metadata": {},
   "outputs": [
    {
     "data": {
      "text/plain": [
       "1.5"
      ]
     },
     "execution_count": 23,
     "metadata": {},
     "output_type": "execute_result"
    }
   ],
   "source": [
    "c2 - c1\n",
    "\n",
    "# Car.__sub__(c2, c1)"
   ]
  },
  {
   "cell_type": "code",
   "execution_count": 25,
   "id": "826a9988",
   "metadata": {},
   "outputs": [
    {
     "data": {
      "text/plain": [
       "True"
      ]
     },
     "execution_count": 25,
     "metadata": {},
     "output_type": "execute_result"
    }
   ],
   "source": [
    "c1 < c2\n",
    "\n",
    "# Car.__lt__(c1, c2)"
   ]
  },
  {
   "cell_type": "code",
   "execution_count": 27,
   "id": "8718545c",
   "metadata": {},
   "outputs": [],
   "source": [
    "# HOMEWORK\n",
    "\n",
    "class Car:\n",
    "    def __init__(self, name, milaege):\n",
    "        self.name = name\n",
    "        self.milaege = milaege\n",
    "        \n",
    "    def __add__(self, other):\n",
    "        return self.milaege + other.milaege"
   ]
  },
  {
   "cell_type": "code",
   "execution_count": 28,
   "id": "c2bb9a8b",
   "metadata": {},
   "outputs": [],
   "source": [
    "c1 = Car(\"Nexon\", 13)\n",
    "c2 = Car(\"Altroz\", 14.5)"
   ]
  },
  {
   "cell_type": "code",
   "execution_count": 30,
   "id": "681ae13c",
   "metadata": {},
   "outputs": [],
   "source": [
    "result = c1 + c2"
   ]
  },
  {
   "cell_type": "code",
   "execution_count": 31,
   "id": "a9f0809d",
   "metadata": {},
   "outputs": [
    {
     "data": {
      "text/plain": [
       "27.5"
      ]
     },
     "execution_count": 31,
     "metadata": {},
     "output_type": "execute_result"
    }
   ],
   "source": [
    "result"
   ]
  },
  {
   "cell_type": "code",
   "execution_count": 32,
   "id": "9730fcec",
   "metadata": {},
   "outputs": [],
   "source": [
    "c3 = Car(\"Harrier\", 10)"
   ]
  },
  {
   "cell_type": "code",
   "execution_count": 33,
   "id": "ada97fd4",
   "metadata": {},
   "outputs": [
    {
     "ename": "TypeError",
     "evalue": "unsupported operand type(s) for +: 'float' and 'Car'",
     "output_type": "error",
     "traceback": [
      "\u001b[0;31m---------------------------------------------------------------------------\u001b[0m",
      "\u001b[0;31mTypeError\u001b[0m                                 Traceback (most recent call last)",
      "Cell \u001b[0;32mIn[33], line 1\u001b[0m\n\u001b[0;32m----> 1\u001b[0m \u001b[43mresult\u001b[49m\u001b[43m \u001b[49m\u001b[38;5;241;43m+\u001b[39;49m\u001b[43m \u001b[49m\u001b[43mc3\u001b[49m\n",
      "\u001b[0;31mTypeError\u001b[0m: unsupported operand type(s) for +: 'float' and 'Car'"
     ]
    }
   ],
   "source": [
    "result + c3"
   ]
  },
  {
   "cell_type": "code",
   "execution_count": 34,
   "id": "11239080",
   "metadata": {},
   "outputs": [],
   "source": [
    "# HOMEWORK ENDS!"
   ]
  },
  {
   "cell_type": "markdown",
   "id": "c5358ada",
   "metadata": {},
   "source": [
    "# INHERITENCE"
   ]
  },
  {
   "cell_type": "code",
   "execution_count": 37,
   "id": "9570bccf",
   "metadata": {},
   "outputs": [],
   "source": [
    "class SchoolMember:\n",
    "    def __init__(self, name):\n",
    "        self.name = name\n",
    "        \n",
    "class Student(SchoolMember): # Student class becomes a child class of SchoolMember class\n",
    "    def __init__(self, name, grade):\n",
    "        self.grade = grade\n",
    "        \n",
    "class Staff(SchoolMember):\n",
    "    def __init__(self, name, salary):\n",
    "        self.salary = salary\n",
    "        \n",
    "class Teacher(Staff):\n",
    "    def __init__(self, name, salary, department):\n",
    "        self.department = department"
   ]
  },
  {
   "cell_type": "code",
   "execution_count": 38,
   "id": "06361f9b",
   "metadata": {},
   "outputs": [],
   "source": [
    "s1 = Student(\"Kiranraj\", \"A\")"
   ]
  },
  {
   "cell_type": "code",
   "execution_count": 39,
   "id": "c8d6dc83",
   "metadata": {},
   "outputs": [
    {
     "data": {
      "text/plain": [
       "'A'"
      ]
     },
     "execution_count": 39,
     "metadata": {},
     "output_type": "execute_result"
    }
   ],
   "source": [
    "s1.grade"
   ]
  },
  {
   "cell_type": "code",
   "execution_count": 40,
   "id": "32fef634",
   "metadata": {},
   "outputs": [
    {
     "ename": "AttributeError",
     "evalue": "'Student' object has no attribute 'name'",
     "output_type": "error",
     "traceback": [
      "\u001b[0;31m---------------------------------------------------------------------------\u001b[0m",
      "\u001b[0;31mAttributeError\u001b[0m                            Traceback (most recent call last)",
      "Cell \u001b[0;32mIn[40], line 1\u001b[0m\n\u001b[0;32m----> 1\u001b[0m \u001b[43ms1\u001b[49m\u001b[38;5;241;43m.\u001b[39;49m\u001b[43mname\u001b[49m\n",
      "\u001b[0;31mAttributeError\u001b[0m: 'Student' object has no attribute 'name'"
     ]
    }
   ],
   "source": [
    "s1.name"
   ]
  },
  {
   "cell_type": "code",
   "execution_count": 49,
   "id": "056ee470",
   "metadata": {},
   "outputs": [],
   "source": [
    "class SchoolMember:\n",
    "    def __init__(self, name):\n",
    "        self.name = name\n",
    "        \n",
    "class Student(SchoolMember): # Student class becomes a child class of SchoolMember class\n",
    "    def __init__(self, name, grade):\n",
    "        self.grade = grade\n",
    "        \n",
    "        # super() automatically picks up the parent class\n",
    "        # self is passed automatically, only arguments need to be passed\n",
    "        super().__init__(name)\n",
    "        \n",
    "class Staff(SchoolMember):\n",
    "    def __init__(self, name, salary):\n",
    "        self.salary = salary\n",
    "        \n",
    "        super().__init__(name)\n",
    "        \n",
    "class Teacher(Staff):\n",
    "    def __init__(self, name, salary, department):\n",
    "        self.department = department\n",
    "        \n",
    "        super().__init__(name, salary)"
   ]
  },
  {
   "cell_type": "code",
   "execution_count": 50,
   "id": "a8e5ca56",
   "metadata": {},
   "outputs": [],
   "source": [
    "s1 = Student(\"Vikrant\", \"A+\")"
   ]
  },
  {
   "cell_type": "code",
   "execution_count": 51,
   "id": "b1975312",
   "metadata": {},
   "outputs": [
    {
     "data": {
      "text/plain": [
       "'A+'"
      ]
     },
     "execution_count": 51,
     "metadata": {},
     "output_type": "execute_result"
    }
   ],
   "source": [
    "s1.grade"
   ]
  },
  {
   "cell_type": "code",
   "execution_count": 52,
   "id": "71cf5aa4",
   "metadata": {},
   "outputs": [
    {
     "data": {
      "text/plain": [
       "'Vikrant'"
      ]
     },
     "execution_count": 52,
     "metadata": {},
     "output_type": "execute_result"
    }
   ],
   "source": [
    "s1.name"
   ]
  },
  {
   "cell_type": "code",
   "execution_count": 53,
   "id": "73c87df1",
   "metadata": {},
   "outputs": [],
   "source": [
    "t1 = Teacher(\"Bipin Kalra\", 10, \"CSE\")"
   ]
  },
  {
   "cell_type": "code",
   "execution_count": 54,
   "id": "11fbd9bd",
   "metadata": {},
   "outputs": [
    {
     "data": {
      "text/plain": [
       "'CSE'"
      ]
     },
     "execution_count": 54,
     "metadata": {},
     "output_type": "execute_result"
    }
   ],
   "source": [
    "t1.department"
   ]
  },
  {
   "cell_type": "code",
   "execution_count": 55,
   "id": "cabc45f8",
   "metadata": {},
   "outputs": [
    {
     "data": {
      "text/plain": [
       "10"
      ]
     },
     "execution_count": 55,
     "metadata": {},
     "output_type": "execute_result"
    }
   ],
   "source": [
    "t1.salary"
   ]
  },
  {
   "cell_type": "code",
   "execution_count": 56,
   "id": "112dc612",
   "metadata": {},
   "outputs": [
    {
     "data": {
      "text/plain": [
       "'Bipin Kalra'"
      ]
     },
     "execution_count": 56,
     "metadata": {},
     "output_type": "execute_result"
    }
   ],
   "source": [
    "t1.name"
   ]
  },
  {
   "cell_type": "code",
   "execution_count": 57,
   "id": "369f9e86",
   "metadata": {},
   "outputs": [],
   "source": [
    "class BankAccount:\n",
    "    def __init__(self, initial_balance):\n",
    "        self.balance = initial_balance\n",
    "        \n",
    "    def withdraw(self, amount):\n",
    "        self.balance -= amount\n",
    "        \n",
    "    def deposit(self, amount):\n",
    "        self.balance += amount"
   ]
  },
  {
   "cell_type": "code",
   "execution_count": 58,
   "id": "dfc019d9",
   "metadata": {},
   "outputs": [],
   "source": [
    "b1 = BankAccount(10000)"
   ]
  },
  {
   "cell_type": "code",
   "execution_count": 59,
   "id": "74b01f77",
   "metadata": {},
   "outputs": [],
   "source": [
    "b1.deposit(5000)"
   ]
  },
  {
   "cell_type": "code",
   "execution_count": 60,
   "id": "96290296",
   "metadata": {},
   "outputs": [
    {
     "data": {
      "text/plain": [
       "15000"
      ]
     },
     "execution_count": 60,
     "metadata": {},
     "output_type": "execute_result"
    }
   ],
   "source": [
    "b1.balance"
   ]
  },
  {
   "cell_type": "code",
   "execution_count": 61,
   "id": "127eb3e0",
   "metadata": {},
   "outputs": [],
   "source": [
    "b1.withdraw(15000)"
   ]
  },
  {
   "cell_type": "code",
   "execution_count": 62,
   "id": "f62de33e",
   "metadata": {},
   "outputs": [
    {
     "data": {
      "text/plain": [
       "0"
      ]
     },
     "execution_count": 62,
     "metadata": {},
     "output_type": "execute_result"
    }
   ],
   "source": [
    "b1.balance"
   ]
  },
  {
   "cell_type": "code",
   "execution_count": 63,
   "id": "cbc430e6",
   "metadata": {},
   "outputs": [],
   "source": [
    "b1.balance = 23456789876543234567876543234567876543234567876543234567876543456789876543"
   ]
  },
  {
   "cell_type": "code",
   "execution_count": 65,
   "id": "6abfb9c5",
   "metadata": {},
   "outputs": [
    {
     "data": {
      "text/plain": [
       "23456789876543234567876543234567876543234567876543234567876543456789876543"
      ]
     },
     "execution_count": 65,
     "metadata": {},
     "output_type": "execute_result"
    }
   ],
   "source": [
    "b1.balance # balance is a public attribute"
   ]
  },
  {
   "cell_type": "code",
   "execution_count": 70,
   "id": "87c08fa9",
   "metadata": {},
   "outputs": [],
   "source": [
    "class BankAccount:\n",
    "    def __init__(self, initial_balance):\n",
    "        self.__balance = initial_balance \n",
    "        # Adding __ before a property makes that property private\n",
    "        \n",
    "    def withdraw(self, amount):\n",
    "        self.__balance -= amount\n",
    "        \n",
    "    def deposit(self, amount):\n",
    "        self.__balance += amount\n",
    "        \n",
    "    def show_balance(self):\n",
    "        return self.__balance"
   ]
  },
  {
   "cell_type": "code",
   "execution_count": 71,
   "id": "7759d9bd",
   "metadata": {},
   "outputs": [],
   "source": [
    "b1 = BankAccount(10000)"
   ]
  },
  {
   "cell_type": "code",
   "execution_count": 72,
   "id": "fb544ef0",
   "metadata": {},
   "outputs": [
    {
     "ename": "AttributeError",
     "evalue": "'BankAccount' object has no attribute '__balance'",
     "output_type": "error",
     "traceback": [
      "\u001b[0;31m---------------------------------------------------------------------------\u001b[0m",
      "\u001b[0;31mAttributeError\u001b[0m                            Traceback (most recent call last)",
      "Cell \u001b[0;32mIn[72], line 1\u001b[0m\n\u001b[0;32m----> 1\u001b[0m \u001b[43mb1\u001b[49m\u001b[38;5;241;43m.\u001b[39;49m\u001b[43m__balance\u001b[49m\n",
      "\u001b[0;31mAttributeError\u001b[0m: 'BankAccount' object has no attribute '__balance'"
     ]
    }
   ],
   "source": [
    "b1.__balance"
   ]
  },
  {
   "cell_type": "code",
   "execution_count": 73,
   "id": "6b1b3742",
   "metadata": {},
   "outputs": [
    {
     "data": {
      "text/plain": [
       "10000"
      ]
     },
     "execution_count": 73,
     "metadata": {},
     "output_type": "execute_result"
    }
   ],
   "source": [
    "b1.show_balance()"
   ]
  },
  {
   "cell_type": "code",
   "execution_count": 74,
   "id": "2265ded9",
   "metadata": {},
   "outputs": [],
   "source": [
    "b1.deposit(1000)"
   ]
  },
  {
   "cell_type": "code",
   "execution_count": 75,
   "id": "dc87b2bb",
   "metadata": {},
   "outputs": [],
   "source": [
    "# Properties of private attributes / methods ->\n",
    "# 1. They are not accessible by a class object outside the class\n",
    "# 2. They are not inheritable"
   ]
  },
  {
   "cell_type": "code",
   "execution_count": 76,
   "id": "6567a207",
   "metadata": {},
   "outputs": [],
   "source": [
    "# __varname -> _Classname__varname"
   ]
  },
  {
   "cell_type": "code",
   "execution_count": 78,
   "id": "2e60f9e3",
   "metadata": {},
   "outputs": [],
   "source": [
    "b1._BankAccount__balance = 1234567898765432345678987632345678987323456787632"
   ]
  },
  {
   "cell_type": "code",
   "execution_count": 79,
   "id": "ff969565",
   "metadata": {},
   "outputs": [
    {
     "data": {
      "text/plain": [
       "1234567898765432345678987632345678987323456787632"
      ]
     },
     "execution_count": 79,
     "metadata": {},
     "output_type": "execute_result"
    }
   ],
   "source": [
    "b1.show_balance()"
   ]
  },
  {
   "cell_type": "code",
   "execution_count": 80,
   "id": "8f38f953",
   "metadata": {},
   "outputs": [
    {
     "data": {
      "text/plain": [
       "['_BankAccount__balance',\n",
       " '__class__',\n",
       " '__delattr__',\n",
       " '__dict__',\n",
       " '__dir__',\n",
       " '__doc__',\n",
       " '__eq__',\n",
       " '__format__',\n",
       " '__ge__',\n",
       " '__getattribute__',\n",
       " '__gt__',\n",
       " '__hash__',\n",
       " '__init__',\n",
       " '__init_subclass__',\n",
       " '__le__',\n",
       " '__lt__',\n",
       " '__module__',\n",
       " '__ne__',\n",
       " '__new__',\n",
       " '__reduce__',\n",
       " '__reduce_ex__',\n",
       " '__repr__',\n",
       " '__setattr__',\n",
       " '__sizeof__',\n",
       " '__str__',\n",
       " '__subclasshook__',\n",
       " '__weakref__',\n",
       " 'deposit',\n",
       " 'show_balance',\n",
       " 'withdraw']"
      ]
     },
     "execution_count": 80,
     "metadata": {},
     "output_type": "execute_result"
    }
   ],
   "source": [
    "dir(b1)"
   ]
  },
  {
   "cell_type": "markdown",
   "id": "23aa3056",
   "metadata": {},
   "source": [
    "# MULTIPLE INHERITENCE"
   ]
  },
  {
   "cell_type": "code",
   "execution_count": 87,
   "id": "68b83c49",
   "metadata": {},
   "outputs": [],
   "source": [
    "class A:\n",
    "    def __init__(self, a):\n",
    "        self.a = a\n",
    "        \n",
    "class B:\n",
    "    def __init__(self, b):\n",
    "        self.b = b\n",
    "        \n",
    "class C(A, B):\n",
    "    def __init__(self, a, b, c):\n",
    "        self.c = c\n",
    "        \n",
    "        A.__init__(self, a)\n",
    "        B.__init__(self, b)\n",
    "        \n",
    "        # Another approach using super() also exists <- HOMEWORK"
   ]
  },
  {
   "cell_type": "code",
   "execution_count": 82,
   "id": "8fc19bad",
   "metadata": {},
   "outputs": [],
   "source": [
    "c1 = C(1,2,3)"
   ]
  },
  {
   "cell_type": "code",
   "execution_count": 83,
   "id": "2e677069",
   "metadata": {},
   "outputs": [
    {
     "data": {
      "text/plain": [
       "1"
      ]
     },
     "execution_count": 83,
     "metadata": {},
     "output_type": "execute_result"
    }
   ],
   "source": [
    "c1.a"
   ]
  },
  {
   "cell_type": "code",
   "execution_count": 84,
   "id": "b0d46e79",
   "metadata": {},
   "outputs": [
    {
     "data": {
      "text/plain": [
       "2"
      ]
     },
     "execution_count": 84,
     "metadata": {},
     "output_type": "execute_result"
    }
   ],
   "source": [
    "c1.b"
   ]
  },
  {
   "cell_type": "code",
   "execution_count": 85,
   "id": "75b28330",
   "metadata": {},
   "outputs": [
    {
     "data": {
      "text/plain": [
       "3"
      ]
     },
     "execution_count": 85,
     "metadata": {},
     "output_type": "execute_result"
    }
   ],
   "source": [
    "c1.c"
   ]
  },
  {
   "cell_type": "code",
   "execution_count": 89,
   "id": "f19ac2b6",
   "metadata": {},
   "outputs": [],
   "source": [
    "# DIAMOND PROBLEM! -> Method Resolution Order"
   ]
  },
  {
   "cell_type": "code",
   "execution_count": 103,
   "id": "4c792eb4",
   "metadata": {},
   "outputs": [],
   "source": [
    "class A:\n",
    "    x = 10\n",
    "\n",
    "class B(A):\n",
    "    pass\n",
    "\n",
    "class C(B):\n",
    "    pass\n",
    "\n",
    "class D(A):\n",
    "    x = 5\n",
    "\n",
    "class E(C, D):\n",
    "    pass"
   ]
  },
  {
   "cell_type": "code",
   "execution_count": 104,
   "id": "d2ee97f0",
   "metadata": {},
   "outputs": [],
   "source": [
    "e = E()"
   ]
  },
  {
   "cell_type": "code",
   "execution_count": 105,
   "id": "04a4662a",
   "metadata": {},
   "outputs": [
    {
     "data": {
      "text/plain": [
       "5"
      ]
     },
     "execution_count": 105,
     "metadata": {},
     "output_type": "execute_result"
    }
   ],
   "source": [
    "e.x"
   ]
  },
  {
   "cell_type": "code",
   "execution_count": 106,
   "id": "399ab75d",
   "metadata": {},
   "outputs": [
    {
     "data": {
      "text/plain": [
       "(__main__.E, __main__.C, __main__.B, __main__.D, __main__.A, object)"
      ]
     },
     "execution_count": 106,
     "metadata": {},
     "output_type": "execute_result"
    }
   ],
   "source": [
    "E.__mro__\n",
    "\n",
    "# If we go L2R, value gets picked from the class that comes first"
   ]
  },
  {
   "cell_type": "code",
   "execution_count": 115,
   "id": "503ff12c",
   "metadata": {},
   "outputs": [
    {
     "name": "stdout",
     "output_type": "stream",
     "text": [
      "Am I a class?\n"
     ]
    }
   ],
   "source": [
    "class A:\n",
    "    print(\"Am I a class?\")\n",
    "\n",
    "# A() # 1\n",
    "\n",
    "# obj1 = A() # 2\n",
    "\n",
    "# if A(): # 3\n",
    "#     print(A()) # 4"
   ]
  },
  {
   "cell_type": "code",
   "execution_count": 109,
   "id": "abdd5675",
   "metadata": {},
   "outputs": [
    {
     "ename": "NameError",
     "evalue": "name 'count' is not defined",
     "output_type": "error",
     "traceback": [
      "\u001b[0;31m---------------------------------------------------------------------------\u001b[0m",
      "\u001b[0;31mNameError\u001b[0m                                 Traceback (most recent call last)",
      "Cell \u001b[0;32mIn[109], line 6\u001b[0m\n\u001b[1;32m      3\u001b[0m         \u001b[38;5;28mself\u001b[39m\u001b[38;5;241m.\u001b[39mcount\u001b[38;5;241m=\u001b[39m\u001b[38;5;241m5\u001b[39m\n\u001b[1;32m      4\u001b[0m         \u001b[38;5;28mself\u001b[39m\u001b[38;5;241m.\u001b[39mcount\u001b[38;5;241m=\u001b[39mcount\u001b[38;5;241m+\u001b[39m\u001b[38;5;241m1\u001b[39m\n\u001b[0;32m----> 6\u001b[0m c \u001b[38;5;241m=\u001b[39m \u001b[43mCounter\u001b[49m\u001b[43m(\u001b[49m\u001b[43m)\u001b[49m\n\u001b[1;32m      7\u001b[0m \u001b[38;5;28mprint\u001b[39m(c\u001b[38;5;241m.\u001b[39mcount)\n",
      "Cell \u001b[0;32mIn[109], line 4\u001b[0m, in \u001b[0;36mCounter.__init__\u001b[0;34m(self)\u001b[0m\n\u001b[1;32m      2\u001b[0m \u001b[38;5;28;01mdef\u001b[39;00m \u001b[38;5;21m__init__\u001b[39m(\u001b[38;5;28mself\u001b[39m):\n\u001b[1;32m      3\u001b[0m     \u001b[38;5;28mself\u001b[39m\u001b[38;5;241m.\u001b[39mcount\u001b[38;5;241m=\u001b[39m\u001b[38;5;241m5\u001b[39m\n\u001b[0;32m----> 4\u001b[0m     \u001b[38;5;28mself\u001b[39m\u001b[38;5;241m.\u001b[39mcount\u001b[38;5;241m=\u001b[39m\u001b[43mcount\u001b[49m\u001b[38;5;241m+\u001b[39m\u001b[38;5;241m1\u001b[39m\n",
      "\u001b[0;31mNameError\u001b[0m: name 'count' is not defined"
     ]
    }
   ],
   "source": [
    "class Counter:\n",
    "    def __init__(self):\n",
    "        self.count=5\n",
    "        self.count=count+1\n",
    "\n",
    "c = Counter()\n",
    "print(c.count)"
   ]
  },
  {
   "cell_type": "code",
   "execution_count": null,
   "id": "b50ddf7d",
   "metadata": {},
   "outputs": [],
   "source": []
  }
 ],
 "metadata": {
  "kernelspec": {
   "display_name": "Python 3 (ipykernel)",
   "language": "python",
   "name": "python3"
  },
  "language_info": {
   "codemirror_mode": {
    "name": "ipython",
    "version": 3
   },
   "file_extension": ".py",
   "mimetype": "text/x-python",
   "name": "python",
   "nbconvert_exporter": "python",
   "pygments_lexer": "ipython3",
   "version": "3.9.5"
  }
 },
 "nbformat": 4,
 "nbformat_minor": 5
}
