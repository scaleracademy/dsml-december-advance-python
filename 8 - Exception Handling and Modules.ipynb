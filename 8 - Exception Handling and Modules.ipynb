{
 "cells": [
  {
   "cell_type": "markdown",
   "id": "1874c733",
   "metadata": {},
   "source": [
    "# Modules"
   ]
  },
  {
   "cell_type": "code",
   "execution_count": 1,
   "id": "1afae223",
   "metadata": {},
   "outputs": [],
   "source": [
    "import math"
   ]
  },
  {
   "cell_type": "code",
   "execution_count": 2,
   "id": "d00d745f",
   "metadata": {},
   "outputs": [
    {
     "data": {
      "text/plain": [
       "True"
      ]
     },
     "execution_count": 2,
     "metadata": {},
     "output_type": "execute_result"
    }
   ],
   "source": [
    "isinstance(math, object)"
   ]
  },
  {
   "cell_type": "code",
   "execution_count": 3,
   "id": "ee63814e",
   "metadata": {},
   "outputs": [],
   "source": [
    "random_variable = math"
   ]
  },
  {
   "cell_type": "code",
   "execution_count": 4,
   "id": "f7e9068b",
   "metadata": {},
   "outputs": [
    {
     "data": {
      "text/plain": [
       "720"
      ]
     },
     "execution_count": 4,
     "metadata": {},
     "output_type": "execute_result"
    }
   ],
   "source": [
    "math.factorial(6)"
   ]
  },
  {
   "cell_type": "code",
   "execution_count": 5,
   "id": "1857210a",
   "metadata": {},
   "outputs": [
    {
     "data": {
      "text/plain": [
       "720"
      ]
     },
     "execution_count": 5,
     "metadata": {},
     "output_type": "execute_result"
    }
   ],
   "source": [
    "random_variable.factorial(6)"
   ]
  },
  {
   "cell_type": "code",
   "execution_count": 7,
   "id": "996ec4d9",
   "metadata": {},
   "outputs": [],
   "source": [
    "# help(math)"
   ]
  },
  {
   "cell_type": "code",
   "execution_count": 8,
   "id": "15a4f24b",
   "metadata": {},
   "outputs": [
    {
     "data": {
      "text/plain": [
       "7"
      ]
     },
     "execution_count": 8,
     "metadata": {},
     "output_type": "execute_result"
    }
   ],
   "source": [
    "math.ceil(6.7)"
   ]
  },
  {
   "cell_type": "code",
   "execution_count": 9,
   "id": "f423e827",
   "metadata": {},
   "outputs": [],
   "source": [
    "# WAYS TO IMPORT MODULES!"
   ]
  },
  {
   "cell_type": "code",
   "execution_count": 10,
   "id": "b8bd4a6d",
   "metadata": {},
   "outputs": [],
   "source": [
    "# METHOD 1\n",
    "import math\n",
    "\n",
    "# PROBLEMS - \n",
    "# 1. It imports the entire module\n",
    "# 2. I have to write \"math.\" before every function"
   ]
  },
  {
   "cell_type": "code",
   "execution_count": 14,
   "id": "5852474f",
   "metadata": {},
   "outputs": [],
   "source": [
    "# METHOD 2 (Worst Way)\n",
    "from math import *\n",
    "\n",
    "# PROBLEMS -\n",
    "# 1. Overwriting of content in case of collisions "
   ]
  },
  {
   "cell_type": "code",
   "execution_count": 15,
   "id": "9a44f01e",
   "metadata": {},
   "outputs": [
    {
     "data": {
      "text/plain": [
       "120"
      ]
     },
     "execution_count": 15,
     "metadata": {},
     "output_type": "execute_result"
    }
   ],
   "source": [
    "factorial(5)"
   ]
  },
  {
   "cell_type": "code",
   "execution_count": 16,
   "id": "d1fff14e",
   "metadata": {},
   "outputs": [
    {
     "data": {
      "text/plain": [
       "7"
      ]
     },
     "execution_count": 16,
     "metadata": {},
     "output_type": "execute_result"
    }
   ],
   "source": [
    "ceil(6.7)"
   ]
  },
  {
   "cell_type": "code",
   "execution_count": 17,
   "id": "811fc98c",
   "metadata": {},
   "outputs": [],
   "source": [
    "# METHOD 3\n",
    "from math import factorial, ceil, floor, pi\n",
    "\n",
    "# BEST METHOD IN CASE OF LIMITED OBJECTS BEING IMPORTED"
   ]
  },
  {
   "cell_type": "code",
   "execution_count": 18,
   "id": "a1234c59",
   "metadata": {},
   "outputs": [
    {
     "data": {
      "text/plain": [
       "6"
      ]
     },
     "execution_count": 18,
     "metadata": {},
     "output_type": "execute_result"
    }
   ],
   "source": [
    "floor(6.5)"
   ]
  },
  {
   "cell_type": "code",
   "execution_count": 19,
   "id": "51cfed92",
   "metadata": {},
   "outputs": [
    {
     "data": {
      "text/plain": [
       "3.141592653589793"
      ]
     },
     "execution_count": 19,
     "metadata": {},
     "output_type": "execute_result"
    }
   ],
   "source": [
    "pi"
   ]
  },
  {
   "cell_type": "code",
   "execution_count": 20,
   "id": "2a479992",
   "metadata": {},
   "outputs": [],
   "source": [
    "# METHOD 4\n",
    "import math as m\n",
    "\n",
    "# BEST METHOD TO IMPORT AN ENTIRE MODULE"
   ]
  },
  {
   "cell_type": "code",
   "execution_count": 21,
   "id": "bf22d321",
   "metadata": {},
   "outputs": [
    {
     "data": {
      "text/plain": [
       "5040"
      ]
     },
     "execution_count": 21,
     "metadata": {},
     "output_type": "execute_result"
    }
   ],
   "source": [
    "m.factorial(7)"
   ]
  },
  {
   "cell_type": "code",
   "execution_count": 22,
   "id": "12e94a62",
   "metadata": {},
   "outputs": [],
   "source": [
    "# METHOD 5\n",
    "from math import factorial as fact, ceil as c, floor as f"
   ]
  },
  {
   "cell_type": "code",
   "execution_count": 23,
   "id": "dc42e51c",
   "metadata": {},
   "outputs": [
    {
     "data": {
      "text/plain": [
       "120"
      ]
     },
     "execution_count": 23,
     "metadata": {},
     "output_type": "execute_result"
    }
   ],
   "source": [
    "fact(5)"
   ]
  },
  {
   "cell_type": "code",
   "execution_count": 24,
   "id": "9f6ff0f6",
   "metadata": {},
   "outputs": [
    {
     "data": {
      "text/plain": [
       "7"
      ]
     },
     "execution_count": 24,
     "metadata": {},
     "output_type": "execute_result"
    }
   ],
   "source": [
    "c(6.7)"
   ]
  },
  {
   "cell_type": "code",
   "execution_count": 25,
   "id": "2664a47d",
   "metadata": {},
   "outputs": [],
   "source": [
    "import random"
   ]
  },
  {
   "cell_type": "code",
   "execution_count": 27,
   "id": "718205f2",
   "metadata": {},
   "outputs": [],
   "source": [
    "# help(random)"
   ]
  },
  {
   "cell_type": "code",
   "execution_count": 28,
   "id": "f113d3c4",
   "metadata": {},
   "outputs": [
    {
     "data": {
      "text/plain": [
       "6"
      ]
     },
     "execution_count": 28,
     "metadata": {},
     "output_type": "execute_result"
    }
   ],
   "source": [
    "random.randint(0, 10)"
   ]
  },
  {
   "cell_type": "code",
   "execution_count": 29,
   "id": "e30b6d02",
   "metadata": {},
   "outputs": [
    {
     "data": {
      "text/plain": [
       "'\\nHOMEWORK - \\nCreate a python file and write down custom functions for - \\n    - Add\\n    - Sub\\n    - Divide\\n    - Multiply\\n    \\nImport this file in another file and use the functions.\\n'"
      ]
     },
     "execution_count": 29,
     "metadata": {},
     "output_type": "execute_result"
    }
   ],
   "source": [
    "'''\n",
    "HOMEWORK - \n",
    "Create a python file and write down custom functions for - \n",
    "    - Add\n",
    "    - Sub\n",
    "    - Divide\n",
    "    - Multiply\n",
    "    \n",
    "Import this file in another file and use the functions.\n",
    "'''"
   ]
  },
  {
   "cell_type": "markdown",
   "id": "b7a18951",
   "metadata": {},
   "source": [
    "# EXCEPTION HANDLING"
   ]
  },
  {
   "cell_type": "code",
   "execution_count": 30,
   "id": "2ed450fd",
   "metadata": {},
   "outputs": [
    {
     "ename": "ZeroDivisionError",
     "evalue": "division by zero",
     "output_type": "error",
     "traceback": [
      "\u001b[0;31m---------------------------------------------------------------------------\u001b[0m",
      "\u001b[0;31mZeroDivisionError\u001b[0m                         Traceback (most recent call last)",
      "Cell \u001b[0;32mIn[30], line 1\u001b[0m\n\u001b[0;32m----> 1\u001b[0m \u001b[38;5;241;43m1\u001b[39;49m\u001b[43m \u001b[49m\u001b[38;5;241;43m/\u001b[39;49m\u001b[43m \u001b[49m\u001b[38;5;241;43m0\u001b[39;49m\n",
      "\u001b[0;31mZeroDivisionError\u001b[0m: division by zero"
     ]
    }
   ],
   "source": [
    "1 / 0"
   ]
  },
  {
   "cell_type": "code",
   "execution_count": 31,
   "id": "dfcba72a",
   "metadata": {},
   "outputs": [
    {
     "ename": "NameError",
     "evalue": "name 'xyz_variable_not_defined' is not defined",
     "output_type": "error",
     "traceback": [
      "\u001b[0;31m---------------------------------------------------------------------------\u001b[0m",
      "\u001b[0;31mNameError\u001b[0m                                 Traceback (most recent call last)",
      "Cell \u001b[0;32mIn[31], line 1\u001b[0m\n\u001b[0;32m----> 1\u001b[0m \u001b[38;5;28mprint\u001b[39m(\u001b[43mxyz_variable_not_defined\u001b[49m)\n",
      "\u001b[0;31mNameError\u001b[0m: name 'xyz_variable_not_defined' is not defined"
     ]
    }
   ],
   "source": [
    "print(xyz_variable_not_defined)"
   ]
  },
  {
   "cell_type": "code",
   "execution_count": 32,
   "id": "589abf1d",
   "metadata": {},
   "outputs": [
    {
     "ename": "IndentationError",
     "evalue": "expected an indented block (3614531987.py, line 1)",
     "output_type": "error",
     "traceback": [
      "\u001b[0;36m  Cell \u001b[0;32mIn[32], line 1\u001b[0;36m\u001b[0m\n\u001b[0;31m    if 573:\u001b[0m\n\u001b[0m           ^\u001b[0m\n\u001b[0;31mIndentationError\u001b[0m\u001b[0;31m:\u001b[0m expected an indented block\n"
     ]
    }
   ],
   "source": [
    "if 573:"
   ]
  },
  {
   "cell_type": "code",
   "execution_count": 33,
   "id": "edc03fb1",
   "metadata": {},
   "outputs": [
    {
     "ename": "ModuleNotFoundError",
     "evalue": "No module named 'module_does_not_exist'",
     "output_type": "error",
     "traceback": [
      "\u001b[0;31m---------------------------------------------------------------------------\u001b[0m",
      "\u001b[0;31mModuleNotFoundError\u001b[0m                       Traceback (most recent call last)",
      "Cell \u001b[0;32mIn[33], line 1\u001b[0m\n\u001b[0;32m----> 1\u001b[0m \u001b[38;5;28;01mimport\u001b[39;00m \u001b[38;5;21;01mmodule_does_not_exist\u001b[39;00m\n",
      "\u001b[0;31mModuleNotFoundError\u001b[0m: No module named 'module_does_not_exist'"
     ]
    }
   ],
   "source": [
    "import module_does_not_exist"
   ]
  },
  {
   "cell_type": "code",
   "execution_count": 34,
   "id": "372bd06c",
   "metadata": {},
   "outputs": [
    {
     "ename": "AttributeError",
     "evalue": "'str' object has no attribute 'sort'",
     "output_type": "error",
     "traceback": [
      "\u001b[0;31m---------------------------------------------------------------------------\u001b[0m",
      "\u001b[0;31mAttributeError\u001b[0m                            Traceback (most recent call last)",
      "Cell \u001b[0;32mIn[34], line 1\u001b[0m\n\u001b[0;32m----> 1\u001b[0m \u001b[38;5;124;43m\"\u001b[39;49m\u001b[38;5;124;43mthis is a string\u001b[39;49m\u001b[38;5;124;43m\"\u001b[39;49m\u001b[38;5;241;43m.\u001b[39;49m\u001b[43msort\u001b[49m()\n",
      "\u001b[0;31mAttributeError\u001b[0m: 'str' object has no attribute 'sort'"
     ]
    }
   ],
   "source": [
    "\"this is a string\".sort()"
   ]
  },
  {
   "cell_type": "code",
   "execution_count": 36,
   "id": "7afa9eb3",
   "metadata": {},
   "outputs": [],
   "source": [
    "# dir(__builtins__)"
   ]
  },
  {
   "cell_type": "code",
   "execution_count": 37,
   "id": "d9257dd7",
   "metadata": {},
   "outputs": [
    {
     "name": "stdout",
     "output_type": "stream",
     "text": [
      "ArithmeticError\n",
      "AssertionError\n",
      "AttributeError\n",
      "BlockingIOError\n",
      "BrokenPipeError\n",
      "BufferError\n",
      "ChildProcessError\n",
      "ConnectionAbortedError\n",
      "ConnectionError\n",
      "ConnectionRefusedError\n",
      "ConnectionResetError\n",
      "EOFError\n",
      "EnvironmentError\n",
      "FileExistsError\n",
      "FileNotFoundError\n",
      "FloatingPointError\n",
      "IOError\n",
      "ImportError\n",
      "IndentationError\n",
      "IndexError\n",
      "InterruptedError\n",
      "IsADirectoryError\n",
      "KeyError\n",
      "LookupError\n",
      "MemoryError\n",
      "ModuleNotFoundError\n",
      "NameError\n",
      "NotADirectoryError\n",
      "NotImplementedError\n",
      "OSError\n",
      "OverflowError\n",
      "PermissionError\n",
      "ProcessLookupError\n",
      "RecursionError\n",
      "ReferenceError\n",
      "RuntimeError\n",
      "SyntaxError\n",
      "SystemError\n",
      "TabError\n",
      "TimeoutError\n",
      "TypeError\n",
      "UnboundLocalError\n",
      "UnicodeDecodeError\n",
      "UnicodeEncodeError\n",
      "UnicodeError\n",
      "UnicodeTranslateError\n",
      "ValueError\n",
      "ZeroDivisionError\n",
      "\n",
      "48 TYPE OF KNOWN ERRORS!\n"
     ]
    }
   ],
   "source": [
    "count = 0\n",
    "\n",
    "for i in dir(__builtins__):\n",
    "    if \"Error\" in i:\n",
    "        print(i)\n",
    "        count += 1\n",
    "        \n",
    "print(f\"\\n{count} TYPE OF KNOWN ERRORS!\")"
   ]
  },
  {
   "cell_type": "code",
   "execution_count": 38,
   "id": "72de2d6d",
   "metadata": {},
   "outputs": [
    {
     "name": "stdout",
     "output_type": "stream",
     "text": [
      "Something before the error!\n",
      "15\n"
     ]
    },
    {
     "ename": "ZeroDivisionError",
     "evalue": "division by zero",
     "output_type": "error",
     "traceback": [
      "\u001b[0;31m---------------------------------------------------------------------------\u001b[0m",
      "\u001b[0;31mZeroDivisionError\u001b[0m                         Traceback (most recent call last)",
      "Cell \u001b[0;32mIn[38], line 5\u001b[0m\n\u001b[1;32m      2\u001b[0m x \u001b[38;5;241m=\u001b[39m \u001b[38;5;241m5\u001b[39m \u001b[38;5;241m+\u001b[39m \u001b[38;5;241m10\u001b[39m\n\u001b[1;32m      3\u001b[0m \u001b[38;5;28mprint\u001b[39m(x)\n\u001b[0;32m----> 5\u001b[0m x \u001b[38;5;241m=\u001b[39m \u001b[43mx\u001b[49m\u001b[43m \u001b[49m\u001b[38;5;241;43m/\u001b[39;49m\u001b[43m \u001b[49m\u001b[38;5;241;43m0\u001b[39;49m \u001b[38;5;66;03m# This is where the error occurs\u001b[39;00m\n\u001b[1;32m      7\u001b[0m \u001b[38;5;28mprint\u001b[39m(x)\n\u001b[1;32m      8\u001b[0m \u001b[38;5;28mprint\u001b[39m(\u001b[38;5;124m\"\u001b[39m\u001b[38;5;124mExecution Complete!\u001b[39m\u001b[38;5;124m\"\u001b[39m)\n",
      "\u001b[0;31mZeroDivisionError\u001b[0m: division by zero"
     ]
    }
   ],
   "source": [
    "print(\"Something before the error!\")\n",
    "x = 5 + 10\n",
    "print(x)\n",
    "\n",
    "x = x / 0 # This is where the error occurs\n",
    "\n",
    "print(x)\n",
    "print(\"Execution Complete!\")"
   ]
  },
  {
   "cell_type": "code",
   "execution_count": 42,
   "id": "48f22c61",
   "metadata": {},
   "outputs": [
    {
     "name": "stdout",
     "output_type": "stream",
     "text": [
      "CODE BEFORE TRY BLOCK!\n",
      "5.0\n",
      "CODE AFTER EXCEPT BLOCK!\n"
     ]
    }
   ],
   "source": [
    "print(\"CODE BEFORE TRY BLOCK!\")\n",
    "\n",
    "try:\n",
    "    # CODE WHERE ERROR CAN OCCUR!\n",
    "    x = 5 / 1\n",
    "    print(x)\n",
    "except:\n",
    "    # CODE THAT RUNS ONLY IN CASE ERROR OCCURS!\n",
    "    print(\"I am the except block!\")\n",
    "    \n",
    "print(\"CODE AFTER EXCEPT BLOCK!\")"
   ]
  },
  {
   "cell_type": "code",
   "execution_count": 43,
   "id": "449a2a94",
   "metadata": {},
   "outputs": [
    {
     "name": "stdout",
     "output_type": "stream",
     "text": [
      "CODE BEFORE TRY BLOCK!\n",
      "I am the except block!\n",
      "CODE AFTER EXCEPT BLOCK!\n"
     ]
    }
   ],
   "source": [
    "print(\"CODE BEFORE TRY BLOCK!\")\n",
    "\n",
    "try:\n",
    "    # CODE WHERE ERROR CAN OCCUR!\n",
    "    x = 5 / 0\n",
    "    print(x)\n",
    "except:\n",
    "    # CODE THAT RUNS ONLY IN CASE ERROR OCCURS!\n",
    "    print(\"I am the except block!\")\n",
    "    \n",
    "print(\"CODE AFTER EXCEPT BLOCK!\")"
   ]
  },
  {
   "cell_type": "code",
   "execution_count": 44,
   "id": "a21b4f93",
   "metadata": {},
   "outputs": [
    {
     "data": {
      "text/plain": [
       "'\\nif \"error occurs\":\\n    run the except block.\\nelse:\\n    skip the except block.\\n'"
      ]
     },
     "execution_count": 44,
     "metadata": {},
     "output_type": "execute_result"
    }
   ],
   "source": [
    "'''\n",
    "if \"error occurs\":\n",
    "    run the except block.\n",
    "else:\n",
    "    skip the except block.\n",
    "'''"
   ]
  },
  {
   "cell_type": "code",
   "execution_count": 46,
   "id": "82dddc7b",
   "metadata": {},
   "outputs": [
    {
     "name": "stdout",
     "output_type": "stream",
     "text": [
      "Current Element - 2\n",
      "Result - 2.5\n",
      "-------------------------\n",
      "Current Element - 0\n",
      "SOS - division by zero\n",
      "-------------------------\n",
      "Current Element - Hello\n",
      "SOS - invalid literal for int() with base 10: 'Hello'\n",
      "-------------------------\n",
      "Current Element - None\n",
      "SOS - int() argument must be a string, a bytes-like object or a number, not 'NoneType'\n",
      "-------------------------\n",
      "Current Element - True\n",
      "Result - 5.0\n",
      "-------------------------\n"
     ]
    }
   ],
   "source": [
    "l = [2, 0, \"Hello\", None, True]\n",
    "\n",
    "for element in l:\n",
    "    try:\n",
    "        print(f\"Current Element - {element}\")\n",
    "        result = 5 / int(element)\n",
    "        print(f\"Result - {result}\")\n",
    "    except Exception as e:\n",
    "        print(f\"SOS - {e}\")\n",
    "        \n",
    "    print(\"-\" * 25)"
   ]
  },
  {
   "cell_type": "code",
   "execution_count": 47,
   "id": "1233d391",
   "metadata": {},
   "outputs": [
    {
     "name": "stdout",
     "output_type": "stream",
     "text": [
      "Current Element - 2\n",
      "Result - 2.5\n",
      "-------------------------\n",
      "Current Element - 0\n",
      "Why the hell are you dividing by zero? Are you crazy!?\n",
      "-------------------------\n",
      "Current Element - Hello\n",
      "SOS - invalid literal for int() with base 10: 'Hello'\n",
      "-------------------------\n",
      "Current Element - None\n",
      "SOS - int() argument must be a string, a bytes-like object or a number, not 'NoneType'\n",
      "-------------------------\n",
      "Current Element - True\n",
      "Result - 5.0\n",
      "-------------------------\n"
     ]
    }
   ],
   "source": [
    "l = [2, 0, \"Hello\", None, True]\n",
    "\n",
    "for element in l:\n",
    "    try:\n",
    "        print(f\"Current Element - {element}\")\n",
    "        result = 5 / int(element)\n",
    "        print(f\"Result - {result}\")\n",
    "    except ZeroDivisionError as z:\n",
    "        print(\"Why the hell are you dividing by zero? Are you crazy!?\")\n",
    "    except Exception as e:\n",
    "        print(f\"SOS - {e}\")\n",
    "        \n",
    "    print(\"-\" * 25)"
   ]
  },
  {
   "cell_type": "code",
   "execution_count": 49,
   "id": "f430edaf",
   "metadata": {},
   "outputs": [
    {
     "name": "stdout",
     "output_type": "stream",
     "text": [
      "Current Element - 2\n",
      "Result - 2.5\n",
      "-------------------------\n",
      "Current Element - 0\n",
      "SOS - division by zero\n",
      "-------------------------\n",
      "Current Element - Hello\n",
      "SOS - invalid literal for int() with base 10: 'Hello'\n",
      "-------------------------\n",
      "Current Element - None\n",
      "SOS - int() argument must be a string, a bytes-like object or a number, not 'NoneType'\n",
      "-------------------------\n",
      "Current Element - True\n",
      "Result - 5.0\n",
      "-------------------------\n"
     ]
    }
   ],
   "source": [
    "l = [2, 0, \"Hello\", None, True]\n",
    "\n",
    "for element in l:\n",
    "    try:\n",
    "        print(f\"Current Element - {element}\")\n",
    "        result = 5 / int(element)\n",
    "        print(f\"Result - {result}\")\n",
    "    except Exception as e:\n",
    "        print(f\"SOS - {e}\")\n",
    "    except ZeroDivisionError as z:\n",
    "        print(\"Why the hell are you dividing by zero? Are you crazy!?\")\n",
    "        \n",
    "    print(\"-\" * 25)"
   ]
  },
  {
   "cell_type": "code",
   "execution_count": 50,
   "id": "e4cf6b0b",
   "metadata": {},
   "outputs": [
    {
     "data": {
      "text/plain": [
       "' \\nHOMEWORK - \\nRead about else and finally in case of exception handling.\\n'"
      ]
     },
     "execution_count": 50,
     "metadata": {},
     "output_type": "execute_result"
    }
   ],
   "source": [
    "''' \n",
    "HOMEWORK - \n",
    "Read about else and finally in case of exception handling.\n",
    "'''"
   ]
  },
  {
   "cell_type": "code",
   "execution_count": 51,
   "id": "4dfbfe5c",
   "metadata": {},
   "outputs": [
    {
     "ename": "Exception",
     "evalue": "THIS PASSWORD IS INCORRECT!",
     "output_type": "error",
     "traceback": [
      "\u001b[0;31m---------------------------------------------------------------------------\u001b[0m",
      "\u001b[0;31mException\u001b[0m                                 Traceback (most recent call last)",
      "Cell \u001b[0;32mIn[51], line 1\u001b[0m\n\u001b[0;32m----> 1\u001b[0m \u001b[38;5;28;01mraise\u001b[39;00m \u001b[38;5;167;01mException\u001b[39;00m(\u001b[38;5;124m\"\u001b[39m\u001b[38;5;124mTHIS PASSWORD IS INCORRECT!\u001b[39m\u001b[38;5;124m\"\u001b[39m)\n",
      "\u001b[0;31mException\u001b[0m: THIS PASSWORD IS INCORRECT!"
     ]
    }
   ],
   "source": [
    "raise Exception(\"THIS PASSWORD IS INCORRECT!\")"
   ]
  },
  {
   "cell_type": "code",
   "execution_count": 52,
   "id": "e29ec540",
   "metadata": {},
   "outputs": [],
   "source": [
    "class MyCustomException(Exception):\n",
    "    def __init__(self, message):\n",
    "        super().__init__(message)"
   ]
  },
  {
   "cell_type": "code",
   "execution_count": 53,
   "id": "c1e37b2a",
   "metadata": {},
   "outputs": [],
   "source": [
    "CustomError = MyCustomException(\"This is a custom exception!\")"
   ]
  },
  {
   "cell_type": "code",
   "execution_count": 54,
   "id": "e7b976b3",
   "metadata": {},
   "outputs": [
    {
     "ename": "MyCustomException",
     "evalue": "This is a custom exception!",
     "output_type": "error",
     "traceback": [
      "\u001b[0;31m---------------------------------------------------------------------------\u001b[0m",
      "\u001b[0;31mMyCustomException\u001b[0m                         Traceback (most recent call last)",
      "Cell \u001b[0;32mIn[54], line 1\u001b[0m\n\u001b[0;32m----> 1\u001b[0m \u001b[38;5;28;01mraise\u001b[39;00m CustomError\n",
      "\u001b[0;31mMyCustomException\u001b[0m: This is a custom exception!"
     ]
    }
   ],
   "source": [
    "raise CustomError"
   ]
  },
  {
   "cell_type": "code",
   "execution_count": 55,
   "id": "b3027414",
   "metadata": {},
   "outputs": [
    {
     "ename": "IndentationError",
     "evalue": "expected an indented block (869613512.py, line 2)",
     "output_type": "error",
     "traceback": [
      "\u001b[0;36m  Cell \u001b[0;32mIn[55], line 2\u001b[0;36m\u001b[0m\n\u001b[0;31m    random\u001b[0m\n\u001b[0m    ^\u001b[0m\n\u001b[0;31mIndentationError\u001b[0m\u001b[0;31m:\u001b[0m expected an indented block\n"
     ]
    }
   ],
   "source": [
    "if True:\n",
    "random"
   ]
  },
  {
   "cell_type": "code",
   "execution_count": 57,
   "id": "d1e334e4",
   "metadata": {},
   "outputs": [
    {
     "name": "stdout",
     "output_type": "stream",
     "text": [
      "bipin\n"
     ]
    }
   ],
   "source": [
    "try:\n",
    "    name = input()\n",
    "    \n",
    "    if len(name) < 5:\n",
    "        raise Exception(\"Length of the name must be greater than 5 characters.\")\n",
    "except Exception as e:\n",
    "    print(e)"
   ]
  },
  {
   "cell_type": "code",
   "execution_count": null,
   "id": "0c328832",
   "metadata": {},
   "outputs": [],
   "source": []
  }
 ],
 "metadata": {
  "kernelspec": {
   "display_name": "Python 3 (ipykernel)",
   "language": "python",
   "name": "python3"
  },
  "language_info": {
   "codemirror_mode": {
    "name": "ipython",
    "version": 3
   },
   "file_extension": ".py",
   "mimetype": "text/x-python",
   "name": "python",
   "nbconvert_exporter": "python",
   "pygments_lexer": "ipython3",
   "version": "3.9.5"
  }
 },
 "nbformat": 4,
 "nbformat_minor": 5
}
